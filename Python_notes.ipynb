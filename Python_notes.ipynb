{
  "nbformat": 4,
  "nbformat_minor": 0,
  "metadata": {
    "colab": {
      "provenance": []
    },
    "kernelspec": {
      "name": "python3",
      "display_name": "Python 3"
    },
    "language_info": {
      "name": "python"
    }
  },
  "cells": [
    {
      "cell_type": "code",
      "execution_count": 313,
      "metadata": {
        "colab": {
          "base_uri": "https://localhost:8080/"
        },
        "id": "iFht9GXZg3P6",
        "outputId": "a60465cb-8c20-40d8-9e3f-a32bbac5e469"
      },
      "outputs": [
        {
          "output_type": "stream",
          "name": "stdout",
          "text": [
            "n = 2\n",
            "n = abc\n"
          ]
        }
      ],
      "source": [
        "#python is a dynamically typed language(which means no neeed to declare the type)\n",
        "\n",
        "n = 2\n",
        "print('n =' , n)\n",
        "\n",
        "n = \"abc\"\n",
        "print('n =' , n)\n"
      ]
    },
    {
      "cell_type": "code",
      "source": [
        "#Multiple assignments\n",
        "\n",
        "n , m = 3 , \"satya\"\n",
        "print(n , m)"
      ],
      "metadata": {
        "colab": {
          "base_uri": "https://localhost:8080/"
        },
        "id": "dV12rGfgh7GP",
        "outputId": "1b979b09-76d0-4ac5-970d-f4d80f558bb7"
      },
      "execution_count": 314,
      "outputs": [
        {
          "output_type": "stream",
          "name": "stdout",
          "text": [
            "3 satya\n"
          ]
        }
      ]
    },
    {
      "cell_type": "code",
      "source": [
        "#Increment\n",
        "n = 5\n",
        "\n",
        "n = n + 1 #good\n",
        "print('n =' , n)\n",
        "\n",
        "\n",
        "n += 1 #great\n",
        "print('n =' , n)\n",
        "\n",
        "\n",
        "# a++.  #bad"
      ],
      "metadata": {
        "colab": {
          "base_uri": "https://localhost:8080/"
        },
        "id": "hJEyChRdiHJv",
        "outputId": "770a0ea8-1237-47d1-f42a-cd567f2ee1ca"
      },
      "execution_count": 315,
      "outputs": [
        {
          "output_type": "stream",
          "name": "stdout",
          "text": [
            "n = 6\n",
            "n = 7\n"
          ]
        }
      ]
    },
    {
      "cell_type": "code",
      "source": [
        "#None is null\n",
        "\n",
        "n = None\n",
        "print('n =' , n)\n"
      ],
      "metadata": {
        "colab": {
          "base_uri": "https://localhost:8080/"
        },
        "id": "XPSzye6pighP",
        "outputId": "8db25068-1393-4a32-8573-2ef558da804f"
      },
      "execution_count": 316,
      "outputs": [
        {
          "output_type": "stream",
          "name": "stdout",
          "text": [
            "n = None\n"
          ]
        }
      ]
    },
    {
      "cell_type": "code",
      "source": [
        "#If statements don't need paranthesis\n",
        "#or curly braces\n",
        "\n",
        "n = 1\n",
        "if n > 2:\n",
        "  n -= 1\n",
        "\n",
        "elif n == 2:\n",
        "  n *= 2\n",
        "\n",
        "else :\n",
        "  n /= 2"
      ],
      "metadata": {
        "id": "wtU-qQrIjAN9"
      },
      "execution_count": 317,
      "outputs": []
    },
    {
      "cell_type": "code",
      "source": [
        "#Paranthesis needed for multiline conditions\n",
        "# and = &&\n",
        "# or = ||\n",
        "\n",
        "if ((n >= 2 and n < 4) or n == 5):\n",
        "  n += 1"
      ],
      "metadata": {
        "id": "Pvy82YNzjcX5"
      },
      "execution_count": 318,
      "outputs": []
    },
    {
      "cell_type": "code",
      "source": [
        "#while loops are similar\n",
        "n = 0\n",
        "while n < 5:\n",
        "  print(n)\n",
        "  n += 1"
      ],
      "metadata": {
        "colab": {
          "base_uri": "https://localhost:8080/"
        },
        "id": "fphPWJ38mWfl",
        "outputId": "929b3152-62c7-467d-f135-0fba711932f4"
      },
      "execution_count": 319,
      "outputs": [
        {
          "output_type": "stream",
          "name": "stdout",
          "text": [
            "0\n",
            "1\n",
            "2\n",
            "3\n",
            "4\n"
          ]
        }
      ]
    },
    {
      "cell_type": "code",
      "source": [
        "# for loop from i = 0 to i = 4\n",
        "for i in range(5):\n",
        "  print(i)"
      ],
      "metadata": {
        "colab": {
          "base_uri": "https://localhost:8080/"
        },
        "id": "AqJihwTznXGs",
        "outputId": "e69d8022-e50d-4b06-dee9-6cd28de15980"
      },
      "execution_count": 320,
      "outputs": [
        {
          "output_type": "stream",
          "name": "stdout",
          "text": [
            "0\n",
            "1\n",
            "2\n",
            "3\n",
            "4\n"
          ]
        }
      ]
    },
    {
      "cell_type": "code",
      "source": [
        "#printing a number from 2 to 5\n",
        "for i in range(2, 6):\n",
        "  print(i)"
      ],
      "metadata": {
        "colab": {
          "base_uri": "https://localhost:8080/"
        },
        "id": "5gp_Wivsnyuz",
        "outputId": "d0e871b0-6ad3-4ba8-81e7-27e723b2999f"
      },
      "execution_count": 321,
      "outputs": [
        {
          "output_type": "stream",
          "name": "stdout",
          "text": [
            "2\n",
            "3\n",
            "4\n",
            "5\n"
          ]
        }
      ]
    },
    {
      "cell_type": "code",
      "source": [
        "#printing from 5 to 1 in reverse order\n",
        "for i in range(5, 0 , -1):\n",
        "  print(i)"
      ],
      "metadata": {
        "colab": {
          "base_uri": "https://localhost:8080/"
        },
        "id": "CiSRitimoG7e",
        "outputId": "f2edbf00-8c80-47ed-a21b-62f05de8549e"
      },
      "execution_count": 322,
      "outputs": [
        {
          "output_type": "stream",
          "name": "stdout",
          "text": [
            "5\n",
            "4\n",
            "3\n",
            "2\n",
            "1\n"
          ]
        }
      ]
    },
    {
      "cell_type": "code",
      "source": [
        "#Division in decimal by default\n",
        "\n",
        "print(5 / 2)"
      ],
      "metadata": {
        "colab": {
          "base_uri": "https://localhost:8080/"
        },
        "id": "w0W2C1wvoWzM",
        "outputId": "62da378c-2031-47b4-fc76-cf30fe264951"
      },
      "execution_count": 323,
      "outputs": [
        {
          "output_type": "stream",
          "name": "stdout",
          "text": [
            "2.5\n"
          ]
        }
      ]
    },
    {
      "cell_type": "code",
      "source": [
        "#Double slash // for integer division\n",
        "\n",
        "print(5 // 2)"
      ],
      "metadata": {
        "colab": {
          "base_uri": "https://localhost:8080/"
        },
        "id": "GMUkCPZuo2S8",
        "outputId": "3b83c985-b073-4895-86c5-34292ef23930"
      },
      "execution_count": 324,
      "outputs": [
        {
          "output_type": "stream",
          "name": "stdout",
          "text": [
            "2\n"
          ]
        }
      ]
    },
    {
      "cell_type": "code",
      "source": [
        "#most languages rounds towards 0\n",
        "#by default so negative numbers will round down\n",
        "\n",
        "print(-3 // 2) # - 1.5"
      ],
      "metadata": {
        "colab": {
          "base_uri": "https://localhost:8080/"
        },
        "id": "uwcVObWupDQn",
        "outputId": "674b968c-a82e-4798-a1bb-2b81e940ea19"
      },
      "execution_count": 325,
      "outputs": [
        {
          "output_type": "stream",
          "name": "stdout",
          "text": [
            "-2\n"
          ]
        }
      ]
    },
    {
      "cell_type": "code",
      "source": [
        "#To round towards zero\n",
        "#use decimal division and convert to int\n",
        "print(int(-3/2))"
      ],
      "metadata": {
        "colab": {
          "base_uri": "https://localhost:8080/"
        },
        "id": "MSsPKwVgpw9C",
        "outputId": "10d6d992-4470-41d7-ceea-4ca300a034f7"
      },
      "execution_count": 326,
      "outputs": [
        {
          "output_type": "stream",
          "name": "stdout",
          "text": [
            "-1\n"
          ]
        }
      ]
    },
    {
      "cell_type": "code",
      "source": [
        "#modding similar to most languages(finding remainder)\n",
        "print(10 % 3)"
      ],
      "metadata": {
        "colab": {
          "base_uri": "https://localhost:8080/"
        },
        "id": "CL3yNOPWXbIO",
        "outputId": "01b443e6-914e-4f4e-d366-623185f83ef8"
      },
      "execution_count": 327,
      "outputs": [
        {
          "output_type": "stream",
          "name": "stdout",
          "text": [
            "1\n"
          ]
        }
      ]
    },
    {
      "cell_type": "code",
      "source": [
        "#except for negative values\n",
        "print(-10 % 3)"
      ],
      "metadata": {
        "colab": {
          "base_uri": "https://localhost:8080/"
        },
        "id": "5OeBdUD9quql",
        "outputId": "ecb566b9-c34a-4484-d8a7-42d02fff0449"
      },
      "execution_count": 328,
      "outputs": [
        {
          "output_type": "stream",
          "name": "stdout",
          "text": [
            "2\n"
          ]
        }
      ]
    },
    {
      "cell_type": "code",
      "source": [
        "# To be consistent other languages modulo\n",
        "import math\n",
        "print(math.fmod(-10 , 3))\n"
      ],
      "metadata": {
        "colab": {
          "base_uri": "https://localhost:8080/"
        },
        "id": "M7bn0MHjq76J",
        "outputId": "67ec080b-6dd5-441e-ba08-b92335940477"
      },
      "execution_count": 329,
      "outputs": [
        {
          "output_type": "stream",
          "name": "stdout",
          "text": [
            "-1.0\n"
          ]
        }
      ]
    },
    {
      "cell_type": "code",
      "source": [
        "#important math functions\n",
        "\n",
        "print(math.sqrt(25))\n",
        "print(math.floor(3 / 2))\n",
        "print(math.ceil(3/2))\n",
        "print(math.pow(2, 3))"
      ],
      "metadata": {
        "colab": {
          "base_uri": "https://localhost:8080/"
        },
        "id": "9sFoBOfprXh1",
        "outputId": "4d6085e5-28f3-464b-c22c-74d47568827c"
      },
      "execution_count": 330,
      "outputs": [
        {
          "output_type": "stream",
          "name": "stdout",
          "text": [
            "5.0\n",
            "1\n",
            "2\n",
            "8.0\n"
          ]
        }
      ]
    },
    {
      "cell_type": "code",
      "source": [
        "#max , min values\n",
        "\n",
        "float(\"inf\")\n",
        "float(\"-inf\")\n"
      ],
      "metadata": {
        "colab": {
          "base_uri": "https://localhost:8080/"
        },
        "id": "wmSImGgir5AZ",
        "outputId": "72462bf5-4852-4ca5-f779-a2e6f434ad27"
      },
      "execution_count": 331,
      "outputs": [
        {
          "output_type": "execute_result",
          "data": {
            "text/plain": [
              "-inf"
            ]
          },
          "metadata": {},
          "execution_count": 331
        }
      ]
    },
    {
      "cell_type": "code",
      "source": [
        "#python numbers are infinite so they never overflow\n",
        "print(math.pow(2, 200))"
      ],
      "metadata": {
        "colab": {
          "base_uri": "https://localhost:8080/"
        },
        "id": "RifvfqDHsVHA",
        "outputId": "9129f4d3-0a20-4984-f25b-a5ce9faf5535"
      },
      "execution_count": 332,
      "outputs": [
        {
          "output_type": "stream",
          "name": "stdout",
          "text": [
            "1.6069380442589903e+60\n"
          ]
        }
      ]
    },
    {
      "cell_type": "code",
      "source": [
        "#still all are less than infinity\n",
        "\n",
        "print(math.pow(2, 200) < float(\"inf\"))"
      ],
      "metadata": {
        "colab": {
          "base_uri": "https://localhost:8080/"
        },
        "id": "Ux9mBN9ssl3u",
        "outputId": "cb8bc622-2c0b-4916-9d4d-0dd94b6c0686"
      },
      "execution_count": 333,
      "outputs": [
        {
          "output_type": "stream",
          "name": "stdout",
          "text": [
            "True\n"
          ]
        }
      ]
    },
    {
      "cell_type": "code",
      "source": [
        "#Arrays (called lists in python)\n",
        "\n",
        "arr = [1,2,3,4]\n",
        "print(arr)"
      ],
      "metadata": {
        "colab": {
          "base_uri": "https://localhost:8080/"
        },
        "id": "h9yH4nCOs84S",
        "outputId": "5b582a48-221e-493d-ce6d-3f93324d6d32"
      },
      "execution_count": 334,
      "outputs": [
        {
          "output_type": "stream",
          "name": "stdout",
          "text": [
            "[1, 2, 3, 4]\n"
          ]
        }
      ]
    },
    {
      "cell_type": "code",
      "source": [
        "#can be used as stack\n",
        "\n",
        "arr.append(5)\n",
        "print(arr)"
      ],
      "metadata": {
        "colab": {
          "base_uri": "https://localhost:8080/"
        },
        "id": "yv9IyN47th0a",
        "outputId": "5fa1ff00-70cd-4f3c-d8d0-35aabda33a90"
      },
      "execution_count": 335,
      "outputs": [
        {
          "output_type": "stream",
          "name": "stdout",
          "text": [
            "[1, 2, 3, 4, 5]\n"
          ]
        }
      ]
    },
    {
      "cell_type": "code",
      "source": [
        "arr.pop()\n",
        "print(arr)"
      ],
      "metadata": {
        "colab": {
          "base_uri": "https://localhost:8080/"
        },
        "id": "HMoZ08ontrTs",
        "outputId": "db981633-3825-4eb0-a4f0-f4a607c5d2cc"
      },
      "execution_count": 336,
      "outputs": [
        {
          "output_type": "stream",
          "name": "stdout",
          "text": [
            "[1, 2, 3, 4]\n"
          ]
        }
      ]
    },
    {
      "cell_type": "code",
      "source": [
        "#inserting an element in array (O(n) time complexity , others are O(1))\n",
        "\n",
        "arr.insert(1, 7)\n",
        "print(arr)"
      ],
      "metadata": {
        "colab": {
          "base_uri": "https://localhost:8080/"
        },
        "id": "7iCNd-z7uIBp",
        "outputId": "5bd7b9ce-d6cc-4506-b03c-e53452fb56cf"
      },
      "execution_count": 337,
      "outputs": [
        {
          "output_type": "stream",
          "name": "stdout",
          "text": [
            "[1, 7, 2, 3, 4]\n"
          ]
        }
      ]
    },
    {
      "cell_type": "code",
      "source": [
        "#change in array\n",
        "arr[3] = 9\n",
        "print(arr)"
      ],
      "metadata": {
        "colab": {
          "base_uri": "https://localhost:8080/"
        },
        "id": "0UFgmoRQu-Kd",
        "outputId": "b84f883c-515d-4b5a-e1b9-40af85853788"
      },
      "execution_count": 338,
      "outputs": [
        {
          "output_type": "stream",
          "name": "stdout",
          "text": [
            "[1, 7, 2, 9, 4]\n"
          ]
        }
      ]
    },
    {
      "cell_type": "code",
      "source": [
        "# careful !!!! -1 not out of bound(it gives last , -2 gives 2nd last)\n",
        "\n",
        "arr = [1 ,2 ,3 , 4]\n",
        "print(arr[-1])\n",
        "print(arr[-2])"
      ],
      "metadata": {
        "colab": {
          "base_uri": "https://localhost:8080/"
        },
        "id": "3fBgxs8rvFvp",
        "outputId": "26a57142-e50b-4b39-f51c-5e5ac9922591"
      },
      "execution_count": 339,
      "outputs": [
        {
          "output_type": "stream",
          "name": "stdout",
          "text": [
            "4\n",
            "3\n"
          ]
        }
      ]
    },
    {
      "cell_type": "code",
      "source": [
        "# sublists (aka slicing)similar to for-loop ranges,\n",
        "\n",
        "arr = [1 ,2 ,3, 4]\n",
        "print(arr[1:3])\n"
      ],
      "metadata": {
        "colab": {
          "base_uri": "https://localhost:8080/"
        },
        "id": "cagUoVRm1W0J",
        "outputId": "43e6ffbf-e362-471c-ce68-e6f1624e8fac"
      },
      "execution_count": 340,
      "outputs": [
        {
          "output_type": "stream",
          "name": "stdout",
          "text": [
            "[2, 3]\n"
          ]
        }
      ]
    },
    {
      "cell_type": "code",
      "source": [
        "print(arr[0:4])\n"
      ],
      "metadata": {
        "colab": {
          "base_uri": "https://localhost:8080/"
        },
        "id": "3NVLdd7r16N9",
        "outputId": "6d106e79-f93a-40bc-ef3a-5ab20c5b3204"
      },
      "execution_count": 341,
      "outputs": [
        {
          "output_type": "stream",
          "name": "stdout",
          "text": [
            "[1, 2, 3, 4]\n"
          ]
        }
      ]
    },
    {
      "cell_type": "code",
      "source": [
        "#unpacking\n",
        "\n",
        "a , b , c , d = arr\n",
        "print(a, b, c, d)"
      ],
      "metadata": {
        "colab": {
          "base_uri": "https://localhost:8080/"
        },
        "id": "AdVdsIx71-Gp",
        "outputId": "ad4754d9-102b-4a97-874c-330fb0f4f3a0"
      },
      "execution_count": 342,
      "outputs": [
        {
          "output_type": "stream",
          "name": "stdout",
          "text": [
            "1 2 3 4\n"
          ]
        }
      ]
    },
    {
      "cell_type": "code",
      "source": [
        "# Loop through arrays\n",
        "\n",
        "nums = [1 , 2 , 3 , 4]\n"
      ],
      "metadata": {
        "id": "0MKY3_5T5raP"
      },
      "execution_count": 343,
      "outputs": []
    },
    {
      "cell_type": "code",
      "source": [
        "# Using index\n",
        "\n",
        "for i in range(len(nums)):\n",
        "  print(nums[i])\n"
      ],
      "metadata": {
        "colab": {
          "base_uri": "https://localhost:8080/"
        },
        "id": "-6aHOFCe62iq",
        "outputId": "d740dd1e-6219-4b48-a6ca-e330585b9042"
      },
      "execution_count": 344,
      "outputs": [
        {
          "output_type": "stream",
          "name": "stdout",
          "text": [
            "1\n",
            "2\n",
            "3\n",
            "4\n"
          ]
        }
      ]
    },
    {
      "cell_type": "code",
      "source": [
        "#without index\n",
        "\n",
        "for num in nums:\n",
        "  print(num)"
      ],
      "metadata": {
        "colab": {
          "base_uri": "https://localhost:8080/"
        },
        "id": "i8L_2DHQ7K72",
        "outputId": "82a2fccf-c9d2-42ea-9a96-a2db8adac2a0"
      },
      "execution_count": 345,
      "outputs": [
        {
          "output_type": "stream",
          "name": "stdout",
          "text": [
            "1\n",
            "2\n",
            "3\n",
            "4\n"
          ]
        }
      ]
    },
    {
      "cell_type": "code",
      "source": [
        "for i, n in enumerate(nums):\n",
        "  print(i, n)"
      ],
      "metadata": {
        "colab": {
          "base_uri": "https://localhost:8080/"
        },
        "id": "MWUCyqx47Vow",
        "outputId": "15c84dd6-ebb6-47a7-ed02-54c1f419fc03"
      },
      "execution_count": 346,
      "outputs": [
        {
          "output_type": "stream",
          "name": "stdout",
          "text": [
            "0 1\n",
            "1 2\n",
            "2 3\n",
            "3 4\n"
          ]
        }
      ]
    },
    {
      "cell_type": "code",
      "source": [
        "#loop through multiple arrays samultanously\n",
        "#with unpacking\n",
        "\n",
        "nums1 = [1 , 3 , 5 , 0]\n",
        "nums2 = [2 , 6 , 7 , 8]\n",
        "\n",
        "for num1,num2 in zip(nums1 , nums2):\n",
        "  print(num1, num2)"
      ],
      "metadata": {
        "colab": {
          "base_uri": "https://localhost:8080/"
        },
        "id": "UrWPmQoR8q0W",
        "outputId": "228a1a63-bcaf-4691-99f0-3ea5cf74e2c0"
      },
      "execution_count": 347,
      "outputs": [
        {
          "output_type": "stream",
          "name": "stdout",
          "text": [
            "1 2\n",
            "3 6\n",
            "5 7\n",
            "0 8\n"
          ]
        }
      ]
    },
    {
      "cell_type": "code",
      "source": [
        "#Reverse an array\n",
        "\n",
        "nums = [1 , 2 , 3 , 4]\n",
        "nums.reverse()\n",
        "print(nums)"
      ],
      "metadata": {
        "colab": {
          "base_uri": "https://localhost:8080/"
        },
        "id": "MbCQaPB69KlH",
        "outputId": "748b69ef-16b1-461c-9ebc-c60f0b6ecb90"
      },
      "execution_count": 348,
      "outputs": [
        {
          "output_type": "stream",
          "name": "stdout",
          "text": [
            "[4, 3, 2, 1]\n"
          ]
        }
      ]
    },
    {
      "cell_type": "code",
      "source": [
        "#sorting an array\n",
        "\n",
        "arr = [5, 4, 7, 3, 8, 10]\n",
        "arr.sort()\n",
        "print(arr)"
      ],
      "metadata": {
        "colab": {
          "base_uri": "https://localhost:8080/"
        },
        "id": "OYOaQoneDVXx",
        "outputId": "3d09ca56-4d2c-42f1-eef9-f0bce4387d98"
      },
      "execution_count": 349,
      "outputs": [
        {
          "output_type": "stream",
          "name": "stdout",
          "text": [
            "[3, 4, 5, 7, 8, 10]\n"
          ]
        }
      ]
    },
    {
      "cell_type": "code",
      "source": [
        "arr.sort(reverse = True)\n",
        "print(arr)\n"
      ],
      "metadata": {
        "colab": {
          "base_uri": "https://localhost:8080/"
        },
        "id": "_Py937JmDogn",
        "outputId": "023d2788-3596-4394-9da0-59e90393b9b4"
      },
      "execution_count": 350,
      "outputs": [
        {
          "output_type": "stream",
          "name": "stdout",
          "text": [
            "[10, 8, 7, 5, 4, 3]\n"
          ]
        }
      ]
    },
    {
      "cell_type": "code",
      "source": [
        "arr = [\"bob\" , \"alice\" , \"jane\" , \"satya\" , \"subham\", \"prasad\"]\n",
        "arr.sort()\n",
        "print(arr)"
      ],
      "metadata": {
        "colab": {
          "base_uri": "https://localhost:8080/"
        },
        "id": "UV6CLw-_JKQ5",
        "outputId": "55cfe3cc-031e-4da7-c4b3-eb6690c83669"
      },
      "execution_count": 351,
      "outputs": [
        {
          "output_type": "stream",
          "name": "stdout",
          "text": [
            "['alice', 'bob', 'jane', 'prasad', 'satya', 'subham']\n"
          ]
        }
      ]
    },
    {
      "cell_type": "code",
      "source": [
        "arr.sort(key = lambda x : len(x))\n",
        "print(arr)"
      ],
      "metadata": {
        "colab": {
          "base_uri": "https://localhost:8080/"
        },
        "id": "fL_DIHQ2J_7L",
        "outputId": "57352629-1f08-4e20-ea2b-9d2402f831c2"
      },
      "execution_count": 352,
      "outputs": [
        {
          "output_type": "stream",
          "name": "stdout",
          "text": [
            "['bob', 'jane', 'alice', 'satya', 'prasad', 'subham']\n"
          ]
        }
      ]
    },
    {
      "cell_type": "code",
      "source": [
        "#List comprehension\n",
        "\n",
        "arr = [i+i for i in range(5)]\n",
        "print(arr)"
      ],
      "metadata": {
        "colab": {
          "base_uri": "https://localhost:8080/"
        },
        "id": "eHumJFHQKl6y",
        "outputId": "c6b5b99c-35fa-4c9c-864d-4752c69fde95"
      },
      "execution_count": 353,
      "outputs": [
        {
          "output_type": "stream",
          "name": "stdout",
          "text": [
            "[0, 2, 4, 6, 8]\n"
          ]
        }
      ]
    },
    {
      "cell_type": "code",
      "source": [
        "arr = [2] * 5\n",
        "print(arr)"
      ],
      "metadata": {
        "colab": {
          "base_uri": "https://localhost:8080/"
        },
        "id": "7b0My-W4K8Pb",
        "outputId": "3f46be6d-a58b-4bd9-d34f-088304b568a8"
      },
      "execution_count": 354,
      "outputs": [
        {
          "output_type": "stream",
          "name": "stdout",
          "text": [
            "[2, 2, 2, 2, 2]\n"
          ]
        }
      ]
    },
    {
      "cell_type": "code",
      "source": [
        "#2-D lists\n"
      ],
      "metadata": {
        "id": "omOkpXI2MKk1"
      },
      "execution_count": 355,
      "outputs": []
    },
    {
      "cell_type": "code",
      "source": [
        "arr = [[0] * 5] * 5\n",
        "print(arr)"
      ],
      "metadata": {
        "colab": {
          "base_uri": "https://localhost:8080/"
        },
        "id": "KmGs-P3GNGVL",
        "outputId": "6e572a95-d363-4afa-a89b-9b540756fd9c"
      },
      "execution_count": 356,
      "outputs": [
        {
          "output_type": "stream",
          "name": "stdout",
          "text": [
            "[[0, 0, 0, 0, 0], [0, 0, 0, 0, 0], [0, 0, 0, 0, 0], [0, 0, 0, 0, 0], [0, 0, 0, 0, 0]]\n"
          ]
        }
      ]
    },
    {
      "cell_type": "code",
      "source": [
        "arr[1][2] = 1\n",
        "print(arr)"
      ],
      "metadata": {
        "colab": {
          "base_uri": "https://localhost:8080/"
        },
        "id": "upzb0YhGNUe_",
        "outputId": "b1e6183c-a1ee-4e9a-8a2f-79e99a3c03c2"
      },
      "execution_count": 357,
      "outputs": [
        {
          "output_type": "stream",
          "name": "stdout",
          "text": [
            "[[0, 0, 1, 0, 0], [0, 0, 1, 0, 0], [0, 0, 1, 0, 0], [0, 0, 1, 0, 0], [0, 0, 1, 0, 0]]\n"
          ]
        }
      ]
    },
    {
      "cell_type": "code",
      "source": [
        "#strings\n",
        "s = 'satya'\n",
        "print(s[0:2])"
      ],
      "metadata": {
        "colab": {
          "base_uri": "https://localhost:8080/"
        },
        "id": "TLqb2qM8H5rk",
        "outputId": "e7c2494a-0040-4f97-d607-e3c4f63a9139"
      },
      "execution_count": 358,
      "outputs": [
        {
          "output_type": "stream",
          "name": "stdout",
          "text": [
            "sa\n"
          ]
        }
      ]
    },
    {
      "cell_type": "code",
      "source": [
        "#concatination of string\n",
        "s += 'someone nice'\n",
        "print(s)"
      ],
      "metadata": {
        "colab": {
          "base_uri": "https://localhost:8080/"
        },
        "id": "ajJqMETaJWHh",
        "outputId": "0e6dd797-ee19-415d-c3dd-3e9c3c810823"
      },
      "execution_count": 359,
      "outputs": [
        {
          "output_type": "stream",
          "name": "stdout",
          "text": [
            "satyasomeone nice\n"
          ]
        }
      ]
    },
    {
      "cell_type": "code",
      "source": [
        "#valid numeric strings can be comverted\n",
        "print(int('123')+1)"
      ],
      "metadata": {
        "colab": {
          "base_uri": "https://localhost:8080/"
        },
        "id": "cQNb_coxKmaN",
        "outputId": "8be99908-f074-4918-8186-f3216423ca01"
      },
      "execution_count": 360,
      "outputs": [
        {
          "output_type": "stream",
          "name": "stdout",
          "text": [
            "124\n"
          ]
        }
      ]
    },
    {
      "cell_type": "code",
      "source": [
        "#ASCII value of a char\n",
        "print(ord('a') , ord('z'))\n",
        "print(ord('A'), ord('Z'))"
      ],
      "metadata": {
        "colab": {
          "base_uri": "https://localhost:8080/"
        },
        "id": "taCsbr7mLcK5",
        "outputId": "2772a157-2600-47a9-a768-e00bbb57d818"
      },
      "execution_count": 361,
      "outputs": [
        {
          "output_type": "stream",
          "name": "stdout",
          "text": [
            "97 122\n",
            "65 90\n"
          ]
        }
      ]
    },
    {
      "cell_type": "code",
      "source": [
        "#combine string with delimiter\n",
        "\n",
        "stri = ['abc' , 'def' , 'ghi']\n",
        "print('.'.join(stri))"
      ],
      "metadata": {
        "colab": {
          "base_uri": "https://localhost:8080/"
        },
        "id": "DCvOHGhlQZuh",
        "outputId": "8e259eed-3b7c-4165-9160-d8de29463f07"
      },
      "execution_count": 362,
      "outputs": [
        {
          "output_type": "stream",
          "name": "stdout",
          "text": [
            "abc.def.ghi\n"
          ]
        }
      ]
    },
    {
      "cell_type": "code",
      "source": [
        "#Queues (double-ended by default)\n",
        "from collections import deque\n",
        "queue = deque()"
      ],
      "metadata": {
        "id": "BzSqMj2pQ0YS"
      },
      "execution_count": 363,
      "outputs": []
    },
    {
      "cell_type": "code",
      "source": [
        "#default appends and pops to right\n",
        "queue.append(1)\n",
        "queue.append(2)\n",
        "queue.append(3)\n",
        "print(queue)\n",
        "queue.pop()\n",
        "print(queue)"
      ],
      "metadata": {
        "colab": {
          "base_uri": "https://localhost:8080/"
        },
        "id": "1tg5N4W1TN0a",
        "outputId": "7a8b2387-7334-4b2c-b108-57bd4c49e5b2"
      },
      "execution_count": 364,
      "outputs": [
        {
          "output_type": "stream",
          "name": "stdout",
          "text": [
            "deque([1, 2, 3])\n",
            "deque([1, 2])\n"
          ]
        }
      ]
    },
    {
      "cell_type": "code",
      "source": [
        "#left pop and append\n",
        "queue.popleft()\n",
        "print(queue)\n",
        "queue.appendleft(3)\n",
        "print(queue)"
      ],
      "metadata": {
        "colab": {
          "base_uri": "https://localhost:8080/"
        },
        "id": "fwQWTmeqRo3G",
        "outputId": "464c80ca-c229-43e6-da9e-cc955e9a187b"
      },
      "execution_count": 365,
      "outputs": [
        {
          "output_type": "stream",
          "name": "stdout",
          "text": [
            "deque([2])\n",
            "deque([3, 2])\n"
          ]
        }
      ]
    },
    {
      "cell_type": "code",
      "source": [
        "#Hashset(constant time search)\n",
        "mySet = set()\n",
        "mySet.add(1)\n",
        "mySet.add(2)\n",
        "mySet.add(3)\n",
        "print(mySet)"
      ],
      "metadata": {
        "colab": {
          "base_uri": "https://localhost:8080/"
        },
        "id": "yRx3-XEJTVAZ",
        "outputId": "3843c7a6-9772-4c19-8549-69d96ab5ae6c"
      },
      "execution_count": 366,
      "outputs": [
        {
          "output_type": "stream",
          "name": "stdout",
          "text": [
            "{1, 2, 3}\n"
          ]
        }
      ]
    },
    {
      "cell_type": "code",
      "source": [
        "print(len(mySet))"
      ],
      "metadata": {
        "colab": {
          "base_uri": "https://localhost:8080/"
        },
        "id": "zDumQHeSV_zi",
        "outputId": "8498e1c9-6a99-407c-dde6-53746d547f35"
      },
      "execution_count": 367,
      "outputs": [
        {
          "output_type": "stream",
          "name": "stdout",
          "text": [
            "3\n"
          ]
        }
      ]
    },
    {
      "cell_type": "code",
      "source": [
        "print(1 in mySet)\n",
        "print(4 in mySet)"
      ],
      "metadata": {
        "colab": {
          "base_uri": "https://localhost:8080/"
        },
        "id": "VY_keqg2WNlg",
        "outputId": "c5895d82-0b5b-4d26-9b50-0eb7c0dfc7a6"
      },
      "execution_count": 368,
      "outputs": [
        {
          "output_type": "stream",
          "name": "stdout",
          "text": [
            "True\n",
            "False\n"
          ]
        }
      ]
    },
    {
      "cell_type": "code",
      "source": [
        "#removing a value\n",
        "mySet.remove(2)\n",
        "print(mySet)"
      ],
      "metadata": {
        "colab": {
          "base_uri": "https://localhost:8080/"
        },
        "id": "kK7jZomBWhef",
        "outputId": "084d1ed6-734b-46a8-ae62-994e2a52c19a"
      },
      "execution_count": 369,
      "outputs": [
        {
          "output_type": "stream",
          "name": "stdout",
          "text": [
            "{1, 3}\n"
          ]
        }
      ]
    },
    {
      "cell_type": "code",
      "source": [
        "# list to set\n",
        "print(set([1 , 2 , 3 , 4]))"
      ],
      "metadata": {
        "colab": {
          "base_uri": "https://localhost:8080/"
        },
        "id": "b69cnhIHXbu5",
        "outputId": "8883a0c5-ac28-4be3-f8e0-ab4a06afd8d7"
      },
      "execution_count": 370,
      "outputs": [
        {
          "output_type": "stream",
          "name": "stdout",
          "text": [
            "{1, 2, 3, 4}\n"
          ]
        }
      ]
    },
    {
      "cell_type": "code",
      "source": [
        "# Set comprehension\n",
        "mySet = {i**2for i in range(5)}\n",
        "print(mySet)"
      ],
      "metadata": {
        "colab": {
          "base_uri": "https://localhost:8080/"
        },
        "id": "x9gHTeyaXlWn",
        "outputId": "ad031464-23ba-4f93-8363-a38773a5f2f8"
      },
      "execution_count": 371,
      "outputs": [
        {
          "output_type": "stream",
          "name": "stdout",
          "text": [
            "{0, 1, 4, 9, 16}\n"
          ]
        }
      ]
    },
    {
      "cell_type": "code",
      "source": [
        "#HasMap(aka Dictionary)\n",
        "myMap = {}\n",
        "myMap['satya'] = 1\n",
        "myMap['subham'] = 3\n",
        "myMap['prasad'] = 7\n",
        "print(myMap)"
      ],
      "metadata": {
        "colab": {
          "base_uri": "https://localhost:8080/"
        },
        "id": "WgUvTZVQX95Y",
        "outputId": "3b66c1e0-2747-462a-aa35-220b28a6f8ed"
      },
      "execution_count": 372,
      "outputs": [
        {
          "output_type": "stream",
          "name": "stdout",
          "text": [
            "{'satya': 1, 'subham': 3, 'prasad': 7}\n"
          ]
        }
      ]
    },
    {
      "cell_type": "code",
      "source": [
        "print(len(myMap))"
      ],
      "metadata": {
        "colab": {
          "base_uri": "https://localhost:8080/"
        },
        "id": "o5wAna03a1nP",
        "outputId": "9329120a-2ae3-463a-edf5-1d8560d23f6e"
      },
      "execution_count": 373,
      "outputs": [
        {
          "output_type": "stream",
          "name": "stdout",
          "text": [
            "3\n"
          ]
        }
      ]
    },
    {
      "cell_type": "code",
      "source": [
        "myMap['satya'] = 8\n",
        "print(myMap)"
      ],
      "metadata": {
        "colab": {
          "base_uri": "https://localhost:8080/"
        },
        "id": "BRLhqReya54h",
        "outputId": "464e9835-ba3a-441b-c18b-16fe5cf423b5"
      },
      "execution_count": 374,
      "outputs": [
        {
          "output_type": "stream",
          "name": "stdout",
          "text": [
            "{'satya': 8, 'subham': 3, 'prasad': 7}\n"
          ]
        }
      ]
    },
    {
      "cell_type": "code",
      "source": [
        "myMap = {'soldier boy' : 1 , 'butcher' : 2 , 'homelander' : 3}\n",
        "print(myMap)"
      ],
      "metadata": {
        "colab": {
          "base_uri": "https://localhost:8080/"
        },
        "id": "_7Fs2L9YbPgY",
        "outputId": "c6cd41bc-52b7-4d75-c151-4d6e70006fa4"
      },
      "execution_count": 375,
      "outputs": [
        {
          "output_type": "stream",
          "name": "stdout",
          "text": [
            "{'soldier boy': 1, 'butcher': 2, 'homelander': 3}\n"
          ]
        }
      ]
    },
    {
      "cell_type": "code",
      "source": [
        "myMap = {i : i**2 for i in range(5)}\n",
        "print(myMap)"
      ],
      "metadata": {
        "colab": {
          "base_uri": "https://localhost:8080/"
        },
        "id": "Dflmes-lc7x6",
        "outputId": "21ab5fba-3b0b-42c2-c39c-7240482500a1"
      },
      "execution_count": 376,
      "outputs": [
        {
          "output_type": "stream",
          "name": "stdout",
          "text": [
            "{0: 0, 1: 1, 2: 4, 3: 9, 4: 16}\n"
          ]
        }
      ]
    },
    {
      "cell_type": "code",
      "source": [
        "#Looping through Hashmaps\n",
        "for key in myMap:\n",
        "  print(key , myMap[key])\n",
        "\n",
        "for val in myMap.values():\n",
        "  print(val)\n",
        "\n",
        "for key , val in myMap.items():\n",
        "  print(key , val)"
      ],
      "metadata": {
        "colab": {
          "base_uri": "https://localhost:8080/"
        },
        "id": "7_-Do2Thdylq",
        "outputId": "3f992d26-e49d-48c6-cdc2-c278b8d92ce9"
      },
      "execution_count": 377,
      "outputs": [
        {
          "output_type": "stream",
          "name": "stdout",
          "text": [
            "0 0\n",
            "1 1\n",
            "2 4\n",
            "3 9\n",
            "4 16\n",
            "0\n",
            "1\n",
            "4\n",
            "9\n",
            "16\n",
            "0 0\n",
            "1 1\n",
            "2 4\n",
            "3 9\n",
            "4 16\n"
          ]
        }
      ]
    },
    {
      "cell_type": "code",
      "source": [
        "#tuples (like arrays immutable)\n",
        "\n",
        "tup = ( 1  , 2 , 3 , 4)\n",
        "print(tup)\n",
        "print(tup[1])\n",
        "\n",
        "# tup[1] = 5 (not possible)"
      ],
      "metadata": {
        "colab": {
          "base_uri": "https://localhost:8080/"
        },
        "id": "wCA2Z2jC1U3W",
        "outputId": "e9363f3e-44e6-4101-da06-5e277ddc0e0f"
      },
      "execution_count": 378,
      "outputs": [
        {
          "output_type": "stream",
          "name": "stdout",
          "text": [
            "(1, 2, 3, 4)\n",
            "2\n"
          ]
        }
      ]
    },
    {
      "cell_type": "code",
      "source": [
        "#mostly used for key with hashMap (array/list cannot be used as keys)\n",
        "\n",
        "myMap = {(1,2) : 3 , (4,5) :6 }\n",
        "print(myMap[(1,2)])\n",
        "print(myMap)\n",
        "\n",
        "#array/list can't be used as key\n",
        "# myMap[[7,8]] = 0"
      ],
      "metadata": {
        "colab": {
          "base_uri": "https://localhost:8080/"
        },
        "id": "sajGAIcq2dj8",
        "outputId": "02a02986-ac71-4c0b-df10-68ed22008242"
      },
      "execution_count": 379,
      "outputs": [
        {
          "output_type": "stream",
          "name": "stdout",
          "text": [
            "3\n",
            "{(1, 2): 3, (4, 5): 6}\n"
          ]
        }
      ]
    },
    {
      "cell_type": "code",
      "source": [
        "print((1,2) in myMap)"
      ],
      "metadata": {
        "colab": {
          "base_uri": "https://localhost:8080/"
        },
        "id": "4gVZ_j3L238r",
        "outputId": "bd419817-cbfc-4413-c1a6-9a392daad6f3"
      },
      "execution_count": 380,
      "outputs": [
        {
          "output_type": "stream",
          "name": "stdout",
          "text": [
            "True\n"
          ]
        }
      ]
    },
    {
      "cell_type": "code",
      "source": [
        "#tuples for HashSet\n",
        "\n",
        "mySet = set()\n",
        "mySet.add((1,2))\n",
        "mySet.add((3,4))\n",
        "print(mySet)\n"
      ],
      "metadata": {
        "colab": {
          "base_uri": "https://localhost:8080/"
        },
        "id": "cIugJYSm3GPd",
        "outputId": "4ca0b622-1867-49d4-de84-116fa7323859"
      },
      "execution_count": 381,
      "outputs": [
        {
          "output_type": "stream",
          "name": "stdout",
          "text": [
            "{(1, 2), (3, 4)}\n"
          ]
        }
      ]
    },
    {
      "cell_type": "code",
      "source": [
        "#Heaps\n",
        "\n",
        "import heapq\n",
        "\n",
        "#under the hoods are arrays\n",
        "minHeap = []\n",
        "heapq.heappush(minHeap , 3)\n",
        "heapq.heappush(minHeap , 2)\n",
        "heapq.heappush(minHeap , 7)\n",
        "heapq.heappush(minHeap , -4)\n",
        "\n",
        "print(minHeap)"
      ],
      "metadata": {
        "colab": {
          "base_uri": "https://localhost:8080/"
        },
        "id": "ZCsse9cL6wR-",
        "outputId": "f7e97083-3829-49e8-a009-c05081720a91"
      },
      "execution_count": 382,
      "outputs": [
        {
          "output_type": "stream",
          "name": "stdout",
          "text": [
            "[-4, 2, 7, 3]\n"
          ]
        }
      ]
    },
    {
      "cell_type": "code",
      "source": [
        "heapq.heappop(minHeap)\n",
        "print(minHeap)"
      ],
      "metadata": {
        "colab": {
          "base_uri": "https://localhost:8080/"
        },
        "id": "vgFOBLr37UaQ",
        "outputId": "a47f7b42-5952-4726-d5b4-b856e0964e0d"
      },
      "execution_count": 383,
      "outputs": [
        {
          "output_type": "stream",
          "name": "stdout",
          "text": [
            "[2, 3, 7]\n"
          ]
        }
      ]
    },
    {
      "cell_type": "code",
      "source": [
        "#No max Heaps by default , use minHeap and multiply by -1 , perform operations and multiply by -1 again ...... yayyy!!!!!!\n",
        "\n",
        "maxHeap = []\n",
        "\n",
        "heapq.heappush(maxHeap , -3)\n",
        "heapq.heappush(maxHeap , -2)\n",
        "heapq.heappush(maxHeap , -7)\n",
        "heapq.heappush(maxHeap , -6)\n",
        "heapq.heappush(maxHeap , -10)\n",
        "\n",
        "print(-1 * maxHeap[2])\n"
      ],
      "metadata": {
        "colab": {
          "base_uri": "https://localhost:8080/"
        },
        "id": "cIOV1QR6o0hR",
        "outputId": "7b56dca2-9104-4d27-ee69-ad4d0a0c5d9b"
      },
      "execution_count": 384,
      "outputs": [
        {
          "output_type": "stream",
          "name": "stdout",
          "text": [
            "3\n"
          ]
        }
      ]
    },
    {
      "cell_type": "code",
      "source": [
        "while len(maxHeap):\n",
        "  print(-1 * heapq.heappop(maxHeap))"
      ],
      "metadata": {
        "colab": {
          "base_uri": "https://localhost:8080/"
        },
        "id": "zPErXJcuqVMK",
        "outputId": "70a67078-3d31-48f5-efde-c87636924f12"
      },
      "execution_count": 385,
      "outputs": [
        {
          "output_type": "stream",
          "name": "stdout",
          "text": [
            "10\n",
            "7\n",
            "6\n",
            "3\n",
            "2\n"
          ]
        }
      ]
    },
    {
      "cell_type": "code",
      "source": [
        "arr = [2 , 1, 4 , 7 , 9]\n",
        "heapq.heapify(arr)\n",
        "print(arr)\n",
        "\n",
        "while arr:\n",
        "  print(heapq.heappop(arr))"
      ],
      "metadata": {
        "colab": {
          "base_uri": "https://localhost:8080/"
        },
        "id": "JwUEnSsuqnEq",
        "outputId": "c2a834a4-0730-4aed-aa0b-a4d1f54e5ddc"
      },
      "execution_count": 386,
      "outputs": [
        {
          "output_type": "stream",
          "name": "stdout",
          "text": [
            "[1, 2, 4, 7, 9]\n",
            "1\n",
            "2\n",
            "4\n",
            "7\n",
            "9\n"
          ]
        }
      ]
    },
    {
      "cell_type": "code",
      "source": [
        "#Functions\n",
        "\n",
        "def addFunc(a , b):\n",
        "  return a + b\n",
        "\n",
        "print(addFunc(1 , 2))"
      ],
      "metadata": {
        "colab": {
          "base_uri": "https://localhost:8080/"
        },
        "id": "axcmnUdbrAL-",
        "outputId": "adf3fe40-9622-44a7-96f9-09f2458bdb6c"
      },
      "execution_count": 387,
      "outputs": [
        {
          "output_type": "stream",
          "name": "stdout",
          "text": [
            "3\n"
          ]
        }
      ]
    },
    {
      "cell_type": "code",
      "source": [
        "#Nested functions have access to outer variables\n",
        "\n",
        "def outer(a , b):\n",
        "  c = 2\n",
        "  def inner():\n",
        "    return a+b+c\n",
        "  return inner()\n",
        "\n",
        "\n",
        "print(outer(1 , 2))\n"
      ],
      "metadata": {
        "colab": {
          "base_uri": "https://localhost:8080/"
        },
        "id": "Holfp4RMrghD",
        "outputId": "f1e4c13c-b8d8-4d3f-bb9f-1d3acd3d9e0f"
      },
      "execution_count": 389,
      "outputs": [
        {
          "output_type": "stream",
          "name": "stdout",
          "text": [
            "5\n"
          ]
        }
      ]
    },
    {
      "cell_type": "code",
      "source": [
        "#Can modify objects but cannot reassign\n",
        "#unless using nonlocal keyword\n",
        "\n",
        "def double(arr , val):\n",
        "  def helper():\n",
        "    #Modifiying array works\n",
        "    for i , n in enumerate(arr):\n",
        "      arr[i] *= 2\n",
        "\n",
        "    #will only modify val in the helper scope\n",
        "    #val *= 2\n",
        "\n",
        "    #this will modify val outside helper scope\n",
        "    nonlocal val\n",
        "    val *= 2\n",
        "\n",
        "  helper()\n",
        "  print(arr , val )\n",
        "\n",
        "\n",
        "nums = [1 , 2 ]\n",
        "value = 3\n",
        "double(nums , value)"
      ],
      "metadata": {
        "colab": {
          "base_uri": "https://localhost:8080/"
        },
        "id": "70xebWor7dd5",
        "outputId": "155d8a18-352a-4b62-f075-65006e6683f0"
      },
      "execution_count": 396,
      "outputs": [
        {
          "output_type": "stream",
          "name": "stdout",
          "text": [
            "[2, 4] 6\n"
          ]
        }
      ]
    },
    {
      "cell_type": "code",
      "source": [
        "class myClass:\n",
        "  def __init__(self , name):\n",
        "    self.name = name\n",
        "    self.size = len(name)\n",
        "\n",
        "  def return_size(self):\n",
        "    return self.size\n",
        "\n",
        "  def return_double_size(self):\n",
        "    return 2 * self.size\n",
        "\n",
        "\n",
        "\n"
      ],
      "metadata": {
        "id": "rcHR8qteF8SZ"
      },
      "execution_count": 397,
      "outputs": []
    }
  ]
}